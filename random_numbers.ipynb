{
 "cells": [
  {
   "cell_type": "code",
   "execution_count": 1,
   "id": "d948f51c",
   "metadata": {},
   "outputs": [],
   "source": [
    "# Import Random module\n",
    "import random"
   ]
  },
  {
   "cell_type": "code",
   "execution_count": 3,
   "id": "ad165770",
   "metadata": {},
   "outputs": [
    {
     "data": {
      "text/plain": [
       "85"
      ]
     },
     "execution_count": 3,
     "metadata": {},
     "output_type": "execute_result"
    }
   ],
   "source": [
    "random.randint(-90, 90)"
   ]
  },
  {
   "cell_type": "code",
   "execution_count": 4,
   "id": "e4c24215",
   "metadata": {},
   "outputs": [
    {
     "data": {
      "text/plain": [
       "0.6572469591796363"
      ]
     },
     "execution_count": 4,
     "metadata": {},
     "output_type": "execute_result"
    }
   ],
   "source": [
    "random.random()"
   ]
  },
  {
   "cell_type": "code",
   "execution_count": 5,
   "id": "ec37fb96",
   "metadata": {},
   "outputs": [
    {
     "data": {
      "text/plain": [
       "-57.47093798677671"
      ]
     },
     "execution_count": 5,
     "metadata": {},
     "output_type": "execute_result"
    }
   ],
   "source": [
    "random_number = random.randint(-90, 90) + random.random()\n",
    "random_number"
   ]
  },
  {
   "cell_type": "code",
   "execution_count": 25,
   "id": "b1a9d10f",
   "metadata": {},
   "outputs": [
    {
     "data": {
      "text/plain": [
       "[8.645416437545661,\n",
       " -83.74548123670316,\n",
       " 74.71819086509721,\n",
       " 61.913779073287955,\n",
       " 65.62454301099643,\n",
       " 87.53205678901337,\n",
       " -60.56494722154568,\n",
       " -65.44594935381046,\n",
       " 76.2227357028757,\n",
       " 66.70358878162907]"
      ]
     },
     "execution_count": 25,
     "metadata": {},
     "output_type": "execute_result"
    }
   ],
   "source": [
    "# Making random numbers using .randint()\n",
    "x = 1\n",
    "latitudes = []\n",
    "while x < 11:\n",
    "    random_lat = random.randint(-90, 90) + random.random()\n",
    "    latitudes.append(random_lat)\n",
    "    x += 1\n",
    "    \n",
    "latitudes"
   ]
  },
  {
   "cell_type": "code",
   "execution_count": 26,
   "id": "93a0892a",
   "metadata": {},
   "outputs": [
    {
     "data": {
      "text/plain": [
       "[123.19419897690665,\n",
       " 65.52798144020774,\n",
       " 64.76853456034958,\n",
       " -84.14003979400876,\n",
       " -123.13315531101622,\n",
       " 117.68393379780544,\n",
       " -66.9625025244365,\n",
       " -2.2008990515593094,\n",
       " -79.752887647278,\n",
       " -163.31347396462485]"
      ]
     },
     "execution_count": 26,
     "metadata": {},
     "output_type": "execute_result"
    }
   ],
   "source": [
    "# Making random numbers using .randint()\n",
    "y = 1\n",
    "longitudes = []\n",
    "while y < 11:\n",
    "    random_long = random.randint(-180, 180) + random.random()\n",
    "    longitudes.append(random_long)\n",
    "    y += 1\n",
    "    \n",
    "longitudes"
   ]
  },
  {
   "cell_type": "code",
   "execution_count": 27,
   "id": "7a007a15",
   "metadata": {},
   "outputs": [
    {
     "data": {
      "text/plain": [
       "2"
      ]
     },
     "execution_count": 27,
     "metadata": {},
     "output_type": "execute_result"
    }
   ],
   "source": [
    "# Making random numbers using .randrange()\n",
    "random.randrange(-90, 90, step=1)"
   ]
  },
  {
   "cell_type": "code",
   "execution_count": 28,
   "id": "9035db13",
   "metadata": {},
   "outputs": [
    {
     "data": {
      "text/plain": [
       "30"
      ]
     },
     "execution_count": 28,
     "metadata": {},
     "output_type": "execute_result"
    }
   ],
   "source": [
    "random.randrange(-90, 90, step=3)"
   ]
  },
  {
   "cell_type": "code",
   "execution_count": 31,
   "id": "768ad203",
   "metadata": {},
   "outputs": [
    {
     "data": {
      "text/plain": [
       "-44.67817553424201"
      ]
     },
     "execution_count": 31,
     "metadata": {},
     "output_type": "execute_result"
    }
   ],
   "source": [
    "random.uniform(-90, 90)"
   ]
  },
  {
   "cell_type": "code",
   "execution_count": 32,
   "id": "e7cce80b",
   "metadata": {},
   "outputs": [],
   "source": [
    "# Import the NumPy module.\n",
    "import numpy as np"
   ]
  },
  {
   "cell_type": "code",
   "execution_count": 33,
   "id": "976f0717",
   "metadata": {},
   "outputs": [
    {
     "data": {
      "text/plain": [
       "-78.08423131406536"
      ]
     },
     "execution_count": 33,
     "metadata": {},
     "output_type": "execute_result"
    }
   ],
   "source": [
    "np.random.uniform(-90.000, 90.000)"
   ]
  },
  {
   "cell_type": "code",
   "execution_count": 35,
   "id": "1ed9c0d7",
   "metadata": {},
   "outputs": [
    {
     "data": {
      "text/plain": [
       "array([ 73.11778987, -59.18572049,  44.85183202, -39.32216196,\n",
       "       -65.04072382,  20.49483047,  11.76992416, -15.2807904 ,\n",
       "        55.67457079,  70.42130683, -20.71919023,  -3.37398218,\n",
       "        56.93170384, -61.46284397,   2.49765036, -28.80309532,\n",
       "        22.17538875,  37.16109961, -59.42416713,  67.83232879,\n",
       "       -19.67520008,  43.16511919,  79.0104507 , -31.23779972,\n",
       "        30.42346536, -82.64538006,  45.05146647, -23.99532135,\n",
       "        11.67691758,  25.28284459, -73.30561591, -73.61398383,\n",
       "        48.3962587 ,   6.24667548,  89.68119292,  66.45854027,\n",
       "        21.75169259,  34.38086889,  40.78304679,  88.93797037,\n",
       "         8.14036259, -25.94161473, -38.16901158,   8.31439953,\n",
       "       -65.54515676, -80.93139516, -16.16307196,  18.7564186 ,\n",
       "        55.90007498, -77.34127042])"
      ]
     },
     "execution_count": 35,
     "metadata": {},
     "output_type": "execute_result"
    }
   ],
   "source": [
    "np.random.uniform(-90.000, 90.000, size=50)"
   ]
  },
  {
   "cell_type": "code",
   "execution_count": 36,
   "id": "de172337",
   "metadata": {},
   "outputs": [],
   "source": [
    "# Import timeit.\n",
    "import timeit"
   ]
  },
  {
   "cell_type": "code",
   "execution_count": 37,
   "id": "73efd1b4",
   "metadata": {},
   "outputs": [
    {
     "name": "stdout",
     "output_type": "stream",
     "text": [
      "11.4 µs ± 206 ns per loop (mean ± std. dev. of 7 runs, 100000 loops each)\n"
     ]
    }
   ],
   "source": [
    "%timeit np.random.uniform(-90.000, 90.000, size=1500)"
   ]
  },
  {
   "cell_type": "code",
   "execution_count": 41,
   "id": "8320b59d",
   "metadata": {},
   "outputs": [
    {
     "name": "stdout",
     "output_type": "stream",
     "text": [
      "15.7 ns ± 0.0521 ns per loop (mean ± std. dev. of 7 runs, 100000000 loops each)\n",
      "<function latitudes at 0x0000017FF5AA95E8>\n"
     ]
    }
   ],
   "source": [
    "def latitudes(size):\n",
    "    latitudes = []\n",
    "    x = 0\n",
    "    while x < 1500:\n",
    "        random_lat = random.randint(-90, 90) + random.random()\n",
    "        latitudes.append(random_lat)\n",
    "        x += 1\n",
    "    return latitudes\n",
    "\n",
    "# Call the function with 1500.\n",
    "%timeit latitudes\n",
    "print(latitudes)"
   ]
  },
  {
   "cell_type": "code",
   "execution_count": null,
   "id": "eaf58e52",
   "metadata": {},
   "outputs": [],
   "source": []
  }
 ],
 "metadata": {
  "kernelspec": {
   "display_name": "Python 3 (ipykernel)",
   "language": "python",
   "name": "python3"
  },
  "language_info": {
   "codemirror_mode": {
    "name": "ipython",
    "version": 3
   },
   "file_extension": ".py",
   "mimetype": "text/x-python",
   "name": "python",
   "nbconvert_exporter": "python",
   "pygments_lexer": "ipython3",
   "version": "3.7.11"
  }
 },
 "nbformat": 4,
 "nbformat_minor": 5
}
